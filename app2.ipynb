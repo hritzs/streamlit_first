{
 "cells": [
  {
   "cell_type": "code",
   "execution_count": 1,
   "metadata": {},
   "outputs": [
    {
     "name": "stderr",
     "output_type": "stream",
     "text": [
      "2022-12-27 05:26:49.764 INFO    numexpr.utils: Note: NumExpr detected 16 cores but \"NUMEXPR_MAX_THREADS\" not set, so enforcing safe limit of 8.\n",
      "2022-12-27 05:26:49.765 INFO    numexpr.utils: NumExpr defaulting to 8 threads.\n"
     ]
    }
   ],
   "source": [
    "import streamlit as st\n",
    "import pandas as pd\n",
    "import sklearn.ensemble as RandomForestRegressor\n"
   ]
  },
  {
   "cell_type": "code",
   "execution_count": 3,
   "metadata": {},
   "outputs": [],
   "source": [
    "diamonds_data = pd.read_csv(\"diamondpriceprediction\\diamonds.csv\")"
   ]
  },
  {
   "cell_type": "code",
   "execution_count": 5,
   "metadata": {},
   "outputs": [],
   "source": [
    "new_diamonds_data = pd.read_csv(\"diamondpriceprediction/new_diamonds.csv\")\n",
    "new_diamonds_data = pd.get_dummies(new_diamonds_data,columns=['cut','color','clarity'])"
   ]
  },
  {
   "cell_type": "code",
   "execution_count": 6,
   "metadata": {},
   "outputs": [
    {
     "name": "stderr",
     "output_type": "stream",
     "text": [
      "2022-12-27 05:34:47.157 \n",
      "  \u001b[33m\u001b[1mWarning:\u001b[0m to view this Streamlit app on a browser, run it with the following\n",
      "  command:\n",
      "\n",
      "    streamlit run c:\\Users\\ASUS\\anaconda3\\envs\\ml\\lib\\site-packages\\ipykernel_launcher.py [ARGUMENTS]\n"
     ]
    }
   ],
   "source": [
    "model_training = st.container()\n",
    "with model_training:\n",
    "    st.header(\"Model Training\")\n",
    "    st.title(\"In this we are going to train our model\")\n",
    "    selection_col, display_col = st.beta_columns(2)\n",
    "    selection_col.text('List Of features: ')\n",
    "    selection_col.write(diamonds_data.columns)\n",
    "    input_feature = selection_col.text_input('Give an input feature to be feeded to the model','carat')\n",
    "    max_depth = st.slider(\"What should be the max depth of model\", min_value=10,max_value=100,value=20,step=10)\n"
   ]
  },
  {
   "cell_type": "code",
   "execution_count": null,
   "metadata": {},
   "outputs": [],
   "source": []
  }
 ],
 "metadata": {
  "kernelspec": {
   "display_name": "ml",
   "language": "python",
   "name": "python3"
  },
  "language_info": {
   "codemirror_mode": {
    "name": "ipython",
    "version": 3
   },
   "file_extension": ".py",
   "mimetype": "text/x-python",
   "name": "python",
   "nbconvert_exporter": "python",
   "pygments_lexer": "ipython3",
   "version": "3.9.13 (main, Aug 25 2022, 23:51:50) [MSC v.1916 64 bit (AMD64)]"
  },
  "orig_nbformat": 4,
  "vscode": {
   "interpreter": {
    "hash": "175bb15cccf9e7d77c18b83b948ccf8b2f453f9484ac29f7ce37f72fb8a3e185"
   }
  }
 },
 "nbformat": 4,
 "nbformat_minor": 2
}
